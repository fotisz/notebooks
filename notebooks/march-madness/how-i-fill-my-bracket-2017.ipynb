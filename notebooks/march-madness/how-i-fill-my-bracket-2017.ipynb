{
 "cells": [
  {
   "cell_type": "markdown",
   "metadata": {},
   "source": [
    "# Tournament simulation using PyStan\n",
    "\n",
    "In this notebook, I build a simple Bayesian model to predict the outcome of the tournament. Since the bracket deadline is soon, I don't have time to add comments and there is plenty to clean up and improve. Comments are welcome!\n",
    "\n",
    "Main idea: assign score $\\alpha_i$ to each team, predict $\\sqrt{\\Delta}$ where $\\Delta$ is the difference in scores using $\\sqrt{\\Delta} \\approx \\alpha_i - \\alpha_j + h$ where $h$ is the home-field advantage.\n",
    "\n",
    "There is no validation, so use at your own risk, though the predictions do lack creativity so it must have captured some common trends."
   ]
  },
  {
   "cell_type": "code",
   "execution_count": 1,
   "metadata": {},
   "outputs": [],
   "source": [
    "import random\n",
    "from collections import Counter, defaultdict\n",
    "\n",
    "import pandas as pd\n",
    "import numpy as np\n",
    "import matplotlib.pyplot as plt\n",
    "\n",
    "%matplotlib inline\n",
    "\n",
    "import pystan as ps"
   ]
  },
  {
   "cell_type": "code",
   "execution_count": 2,
   "metadata": {
    "collapsed": true
   },
   "outputs": [],
   "source": [
    "first_season = 2010"
   ]
  },
  {
   "cell_type": "code",
   "execution_count": 3,
   "metadata": {
    "collapsed": true
   },
   "outputs": [],
   "source": [
    "def convert_Wloc(loc):\n",
    "    if loc == \"H\":\n",
    "        return 1\n",
    "    if loc == \"A\":\n",
    "        return -1\n",
    "    return 0"
   ]
  },
  {
   "cell_type": "code",
   "execution_count": 4,
   "metadata": {
    "collapsed": true
   },
   "outputs": [],
   "source": [
    "rs_df = pd.read_csv(\"ncaam-data/RegularSeasonCompactResults.csv\")\n",
    "t_df = pd.read_csv(\"ncaam-data/TourneyCompactResults.csv\")\n",
    "\n",
    "games = pd.concat((rs_df, t_df))\n",
    "teams = pd.read_csv(\"ncaam-data/Teams.csv\")\n",
    "seeds = pd.read_csv(\"ncaam-data/TourneySeeds.csv\")\n",
    "slots = pd.read_csv(\"ncaam-data/TourneySlots.csv\")\n",
    "\n",
    "\n",
    "tid_to_id = { team: idx for idx, team in enumerate(teams[\"Team_Id\"].factorize()[1]) }\n",
    "id_to_tid = { idx: team for idx, team in enumerate(teams[\"Team_Id\"].factorize()[1]) }\n",
    "\n",
    "games[\"win_id\"] = games.apply(lambda x: tid_to_id[x.Wteam], 1)\n",
    "games[\"los_id\"] = games.apply(lambda x: tid_to_id[x.Lteam], 1)\n",
    "games[\"athome\"] = games.apply(lambda x: convert_Wloc(x.Wloc), 1)\n",
    "\n",
    "games = games[games[\"Season\"] >= first_season]\n",
    "\n",
    "games[\"t\"] = games.Season - first_season\n",
    "games[\"dscore\"] = np.sqrt(games.Wscore - games.Lscore)"
   ]
  },
  {
   "cell_type": "code",
   "execution_count": 5,
   "metadata": {
    "scrolled": false
   },
   "outputs": [
    {
     "data": {
      "text/html": [
       "<div>\n",
       "<table border=\"1\" class=\"dataframe\">\n",
       "  <thead>\n",
       "    <tr style=\"text-align: right;\">\n",
       "      <th></th>\n",
       "      <th>Season</th>\n",
       "      <th>Daynum</th>\n",
       "      <th>Wteam</th>\n",
       "      <th>Wscore</th>\n",
       "      <th>Lteam</th>\n",
       "      <th>Lscore</th>\n",
       "      <th>Wloc</th>\n",
       "      <th>Numot</th>\n",
       "      <th>win_id</th>\n",
       "      <th>los_id</th>\n",
       "      <th>athome</th>\n",
       "      <th>t</th>\n",
       "      <th>dscore</th>\n",
       "    </tr>\n",
       "  </thead>\n",
       "  <tbody>\n",
       "    <tr>\n",
       "      <th>108122</th>\n",
       "      <td>2010</td>\n",
       "      <td>7</td>\n",
       "      <td>1143</td>\n",
       "      <td>75</td>\n",
       "      <td>1293</td>\n",
       "      <td>70</td>\n",
       "      <td>H</td>\n",
       "      <td>0</td>\n",
       "      <td>42</td>\n",
       "      <td>192</td>\n",
       "      <td>1</td>\n",
       "      <td>0</td>\n",
       "      <td>2.236068</td>\n",
       "    </tr>\n",
       "    <tr>\n",
       "      <th>108123</th>\n",
       "      <td>2010</td>\n",
       "      <td>7</td>\n",
       "      <td>1314</td>\n",
       "      <td>88</td>\n",
       "      <td>1198</td>\n",
       "      <td>72</td>\n",
       "      <td>H</td>\n",
       "      <td>0</td>\n",
       "      <td>213</td>\n",
       "      <td>97</td>\n",
       "      <td>1</td>\n",
       "      <td>0</td>\n",
       "      <td>4.000000</td>\n",
       "    </tr>\n",
       "    <tr>\n",
       "      <th>108124</th>\n",
       "      <td>2010</td>\n",
       "      <td>7</td>\n",
       "      <td>1326</td>\n",
       "      <td>100</td>\n",
       "      <td>1108</td>\n",
       "      <td>60</td>\n",
       "      <td>H</td>\n",
       "      <td>0</td>\n",
       "      <td>225</td>\n",
       "      <td>7</td>\n",
       "      <td>1</td>\n",
       "      <td>0</td>\n",
       "      <td>6.324555</td>\n",
       "    </tr>\n",
       "    <tr>\n",
       "      <th>108125</th>\n",
       "      <td>2010</td>\n",
       "      <td>7</td>\n",
       "      <td>1393</td>\n",
       "      <td>75</td>\n",
       "      <td>1107</td>\n",
       "      <td>43</td>\n",
       "      <td>H</td>\n",
       "      <td>0</td>\n",
       "      <td>292</td>\n",
       "      <td>6</td>\n",
       "      <td>1</td>\n",
       "      <td>0</td>\n",
       "      <td>5.656854</td>\n",
       "    </tr>\n",
       "    <tr>\n",
       "      <th>108126</th>\n",
       "      <td>2010</td>\n",
       "      <td>9</td>\n",
       "      <td>1143</td>\n",
       "      <td>95</td>\n",
       "      <td>1178</td>\n",
       "      <td>61</td>\n",
       "      <td>H</td>\n",
       "      <td>0</td>\n",
       "      <td>42</td>\n",
       "      <td>77</td>\n",
       "      <td>1</td>\n",
       "      <td>0</td>\n",
       "      <td>5.830952</td>\n",
       "    </tr>\n",
       "  </tbody>\n",
       "</table>\n",
       "</div>"
      ],
      "text/plain": [
       "        Season  Daynum  Wteam  Wscore  Lteam  Lscore Wloc  Numot  win_id  \\\n",
       "108122    2010       7   1143      75   1293      70    H      0      42   \n",
       "108123    2010       7   1314      88   1198      72    H      0     213   \n",
       "108124    2010       7   1326     100   1108      60    H      0     225   \n",
       "108125    2010       7   1393      75   1107      43    H      0     292   \n",
       "108126    2010       9   1143      95   1178      61    H      0      42   \n",
       "\n",
       "        los_id  athome  t    dscore  \n",
       "108122     192       1  0  2.236068  \n",
       "108123      97       1  0  4.000000  \n",
       "108124       7       1  0  6.324555  \n",
       "108125       6       1  0  5.656854  \n",
       "108126      77       1  0  5.830952  "
      ]
     },
     "execution_count": 5,
     "metadata": {},
     "output_type": "execute_result"
    }
   ],
   "source": [
    "games.head()"
   ]
  },
  {
   "cell_type": "code",
   "execution_count": 6,
   "metadata": {},
   "outputs": [
    {
     "data": {
      "text/plain": [
       "<matplotlib.axes._subplots.AxesSubplot at 0x10a59b5f8>"
      ]
     },
     "execution_count": 6,
     "metadata": {},
     "output_type": "execute_result"
    },
    {
     "data": {
      "image/png": "[encoded data removed]",
      "text/plain": [
       "<matplotlib.figure.Figure at 0x10a59b1d0>"
      ]
     },
     "metadata": {},
     "output_type": "display_data"
    }
   ],
   "source": [
    "games.dscore.hist()"
   ]
  },
  {
   "cell_type": "code",
   "execution_count": 7,
   "metadata": {},
   "outputs": [
    {
     "data": {
      "text/plain": [
       "<matplotlib.axes._subplots.AxesSubplot at 0x104bc8588>"
      ]
     },
     "execution_count": 7,
     "metadata": {},
     "output_type": "execute_result"
    },
    {
     "data": {
      "image/png": "[encoded data removed]",
      "text/plain": [
       "<matplotlib.figure.Figure at 0x104be3748>"
      ]
     },
     "metadata": {},
     "output_type": "display_data"
    }
   ],
   "source": [
    "games.Daynum.hist(bins=50)"
   ]
  },
  {
   "cell_type": "markdown",
   "metadata": {},
   "source": [
    "# Simple Stan model"
   ]
  },
  {
   "cell_type": "code",
   "execution_count": 8,
   "metadata": {
    "collapsed": true
   },
   "outputs": [],
   "source": [
    "stan_code = \"\"\"\n",
    "data {\n",
    "    int<lower=0> nteams; // number of teams\n",
    "    int<lower=1> nseasons; // number of seasons\n",
    "    int<lower=0> N; // number of observations\n",
    "    \n",
    "    real dscore[N]; // Outcome\n",
    "    int tid[N]; // Team\n",
    "    int oid[N]; // Opponent\n",
    "    int location[N]; // location of game\n",
    "    int season[N]; // Season of game\n",
    "}\n",
    "transformed data {}\n",
    "parameters {\n",
    "    real home;\n",
    "    real team[nteams, nseasons];\n",
    "    \n",
    "    // evolution of teams\n",
    "    real<lower=0> sigma_team0;\n",
    "    real<lower=0> sigma_teamd;\n",
    "    \n",
    "    // variance for home game advantage\n",
    "    real<lower=0, upper=5> sigma_home;\n",
    "    \n",
    "    // variance in outcome\n",
    "    real<lower=0, upper=5> sigma_score;\n",
    "}\n",
    "transformed parameters {\n",
    "    vector[N] xb;\n",
    "    for(i in 1:N) {\n",
    "        xb[i] = home * location[i] + team[tid[i], season[i]] - team[oid[i], season[i]];\n",
    "    }\n",
    "}\n",
    "model {\n",
    "    home ~ normal(0.1, sigma_home);\n",
    "    \n",
    "    for(t in 1:nteams) {\n",
    "        team[t, 1] ~ normal(0.0, sigma_team0);\n",
    "        for(s in 2:nseasons) {\n",
    "            team[t, s] ~ normal(team[t, s-1], sigma_teamd); // for now independent between seasons\n",
    "        }\n",
    "    }\n",
    "    \n",
    "    // outcome\n",
    "    dscore ~ normal(xb, sigma_score);\n",
    "}\n",
    "generated quantities {\n",
    "}\n",
    "\"\"\"\n"
   ]
  },
  {
   "cell_type": "code",
   "execution_count": 9,
   "metadata": {},
   "outputs": [
    {
     "name": "stdout",
     "output_type": "stream",
     "text": [
      "Number of games: 43028\n"
     ]
    }
   ],
   "source": [
    "stan_data = {\n",
    "    \"nteams\": len(id_to_tid),\n",
    "    \"nseasons\": max(games.t)+1,\n",
    "    \"N\": len(games),\n",
    "    \"dscore\": games.dscore,\n",
    "    \"tid\": games.win_id+1,\n",
    "    \"oid\": games.los_id+1,\n",
    "    \"season\": games.t + 1,\n",
    "    \"location\": games.athome\n",
    "}\n",
    "\n",
    "print(f\"Number of games: {len(games)}\")"
   ]
  },
  {
   "cell_type": "code",
   "execution_count": 10,
   "metadata": {
    "scrolled": false
   },
   "outputs": [
    {
     "name": "stderr",
     "output_type": "stream",
     "text": [
      "INFO:pystan:COMPILING THE C++ CODE FOR MODEL anon_model_165a291e814ee6ab964b70cfa8acd4ed NOW.\n"
     ]
    }
   ],
   "source": [
    "stan_iters = 500\n",
    "stan_fit = ps.stan(model_code=stan_code, data=stan_data, iter=stan_iters, chains=2)"
   ]
  },
  {
   "cell_type": "code",
   "execution_count": 11,
   "metadata": {},
   "outputs": [],
   "source": [
    "stan_params = stan_fit.extract()\n",
    "\n",
    "team_scores = stan_params[\"team\"]\n",
    "sigma_score = stan_params[\"sigma_score\"]\n",
    "\n",
    "def tid_to_name(tid):\n",
    "    return teams[teams.Team_Id == tid].iloc[0].Team_Name\n",
    "\n",
    "def id_to_name(idx):\n",
    "    return tid_to_name(id_to_tid[idx])"
   ]
  },
  {
   "cell_type": "code",
   "execution_count": 14,
   "metadata": {},
   "outputs": [
    {
     "data": {
      "text/plain": [
       "'Wake Forest'"
      ]
     },
     "execution_count": 14,
     "metadata": {},
     "output_type": "execute_result"
    }
   ],
   "source": [
    "tid_to_name(1448)"
   ]
  },
  {
   "cell_type": "markdown",
   "metadata": {},
   "source": [
    "### Inspect the 10 best and 5 worst teams as sanity check."
   ]
  },
  {
   "cell_type": "code",
   "execution_count": 16,
   "metadata": {
    "scrolled": false
   },
   "outputs": [
    {
     "data": {
      "text/plain": [
       "[(4.0768819502527291, ('Oregon', 231)),\n",
       " (4.0970002376384107, ('Florida', 95)),\n",
       " (4.1122340329343352, ('Duke', 80)),\n",
       " (4.1183369993284389, ('West Virginia', 351)),\n",
       " (4.2562590612210416, ('Louisville', 156)),\n",
       " (4.5722047287169856, ('Gonzaga', 110)),\n",
       " (4.5908491353565122, ('Kansas', 141)),\n",
       " (4.601773206455384, ('North Carolina', 213)),\n",
       " (4.6117008965689639, ('Kentucky', 145)),\n",
       " (4.9001365358175653, ('Villanova', 336))]"
      ]
     },
     "execution_count": 16,
     "metadata": {},
     "output_type": "execute_result"
    }
   ],
   "source": [
    "mean_team_scores = team_scores.mean(axis=0)\n",
    "tourny_teams = seeds[seeds.Season == 2017].Team.unique()\n",
    "tourny_teams_ids = [tid_to_id[t] for t in tourny_teams]\n",
    "\n",
    "# show top 10 teams\n",
    "qualified_teams = sorted(list(zip(mean_team_scores[tourny_teams_ids, -1], \n",
    "                                  [(id_to_name(idx), idx) for idx in tourny_teams_ids])))\n",
    "\n",
    "qualified_teams[-10:]"
   ]
  },
  {
   "cell_type": "code",
   "execution_count": 17,
   "metadata": {},
   "outputs": [
    {
     "data": {
      "text/plain": [
       "[(-0.72942444353710778, (\"Mt St Mary's\", 190)),\n",
       " (-0.457477967726653, ('New Orleans', 208)),\n",
       " (-0.39542343499332833, ('UC Davis', 312)),\n",
       " (-0.36312374011438514, ('Jacksonville St', 139)),\n",
       " (-0.14225913461711642, ('TX Southern', 310))]"
      ]
     },
     "execution_count": 17,
     "metadata": {},
     "output_type": "execute_result"
    }
   ],
   "source": [
    "qualified_teams[:5]"
   ]
  },
  {
   "cell_type": "code",
   "execution_count": 18,
   "metadata": {},
   "outputs": [
    {
     "data": {
      "image/png": "[encoded data removed]",
      "text/plain": [
       "<matplotlib.figure.Figure at 0x10c007cc0>"
      ]
     },
     "metadata": {},
     "output_type": "display_data"
    }
   ],
   "source": [
    "f, ax = plt.subplots(1, 1)\n",
    "_ = ax.hist(team_scores[:, 80, -1], bins=100, range=(0, 6), alpha=0.7)\n",
    "_ = ax.hist(team_scores[:, 213, -1], bins=100, range=(0,6), alpha=0.7)"
   ]
  },
  {
   "cell_type": "markdown",
   "metadata": {},
   "source": [
    "# Tournament simulation"
   ]
  },
  {
   "cell_type": "code",
   "execution_count": 19,
   "metadata": {
    "scrolled": false
   },
   "outputs": [],
   "source": [
    "tournament = slots[slots.Season == 2017][[\"Slot\", \"Strongseed\", \"Weakseed\"]].set_index(\"Slot\").to_dict(\"index\")\n",
    "# purge initial playoffs (manually :()\n",
    "\n",
    "tournament = {k: (v[\"Strongseed\"], v[\"Weakseed\"]) for k, v in tournament.items() if v[\"Strongseed\"][-1] != \"a\"}"
   ]
  },
  {
   "cell_type": "code",
   "execution_count": 20,
   "metadata": {
    "scrolled": false
   },
   "outputs": [],
   "source": [
    "initial = seeds[seeds.Season == 2017][[\"Seed\", \"Team\"]].set_index(\"Seed\").to_dict(\"index\")\n",
    "\n",
    "initial = {k: v[\"Team\"] for k, v in initial.items() if k[-1] not in [\"a\", \"b\"]}\n",
    "\n",
    "initial[\"W11\"] = 1425\n",
    "initial[\"W16\"] = 1291\n",
    "initial[\"Y16\"] = 1413\n",
    "initial[\"Z11\"] = 1243"
   ]
  },
  {
   "cell_type": "code",
   "execution_count": 21,
   "metadata": {},
   "outputs": [
    {
     "data": {
      "text/plain": [
       "'Kansas St'"
      ]
     },
     "execution_count": 21,
     "metadata": {},
     "output_type": "execute_result"
    }
   ],
   "source": [
    "tid_to_name(1243)"
   ]
  },
  {
   "cell_type": "code",
   "execution_count": 22,
   "metadata": {
    "collapsed": true
   },
   "outputs": [],
   "source": [
    "def simulate_game(A, B, trace):\n",
    "    \"\"\"\n",
    "    Simulates game between teams A and B\n",
    "    \n",
    "    Returns: winner, loser, margin\n",
    "    \"\"\"\n",
    "    idA = tid_to_id[A]\n",
    "    idB = tid_to_id[B]\n",
    "    \n",
    "    # find team coefficients\n",
    "    alpha_a = team_scores[trace, idA, -1]\n",
    "    alpha_b = team_scores[trace, idB, -1]\n",
    "    \n",
    "    sqrt_score = random.gauss(alpha_a - alpha_b, sigma_score[trace])\n",
    "    \n",
    "    # return result\n",
    "    if sqrt_score >= 0:\n",
    "        return A, B, sqrt_score**2\n",
    "    \n",
    "    return B, A, sqrt_score**2"
   ]
  },
  {
   "cell_type": "markdown",
   "metadata": {},
   "source": [
    "Checking whether simulations make sense. Win percentage seem a little conservative between number 1 and number 16 seed, which is normal for this type of model. The predicted scores are clearly over-dispersed; that is due to the square root. However, it shouldn't influence the simulations too much."
   ]
  },
  {
   "cell_type": "code",
   "execution_count": 23,
   "metadata": {},
   "outputs": [
    {
     "data": {
      "text/plain": [
       "364"
      ]
     },
     "execution_count": 23,
     "metadata": {},
     "output_type": "execute_result"
    }
   ],
   "source": [
    "len(teams)"
   ]
  },
  {
   "cell_type": "code",
   "execution_count": 24,
   "metadata": {
    "collapsed": true
   },
   "outputs": [],
   "source": [
    "name_to_tid = {id_to_name(idx): id_to_tid[idx] for idx in range(len(teams))}"
   ]
  },
  {
   "cell_type": "code",
   "execution_count": 25,
   "metadata": {},
   "outputs": [
    {
     "name": "stdout",
     "output_type": "stream",
     "text": [
      "Simulating Michigan vs Louisville\n",
      "Michigan wins 31.422222222222224%\n"
     ]
    },
    {
     "data": {
      "image/png": "[encoded data removed]",
      "text/plain": [
       "<matplotlib.figure.Figure at 0x10d3bc2e8>"
      ]
     },
     "metadata": {},
     "output_type": "display_data"
    }
   ],
   "source": [
    "team_a = name_to_tid[\"Michigan\"]\n",
    "team_b = name_to_tid[\"Louisville\"]\n",
    "tid_to_name(team_a), tid_to_name(team_b)\n",
    "\n",
    "raw_games = []\n",
    "for _ in range(10):\n",
    "    raw_games += [simulate_game(team_a, team_b, t) for t in range(50, stan_iters)]\n",
    "    \n",
    "final_scores = [(2*(a==team_a)-1) * score for a, b, score in raw_games]\n",
    "\n",
    "print(f\"Simulating {tid_to_name(team_a)} vs {tid_to_name(team_b)}\")\n",
    "a_win_perc = len([s for s in final_scores if s > 0]) / len(final_scores)\n",
    "print(f\"{tid_to_name(team_a)} wins {100*a_win_perc}%\")\n",
    "\n",
    "f = plt.hist(final_scores, bins=100, label=\"Final score\")"
   ]
  },
  {
   "cell_type": "code",
   "execution_count": 26,
   "metadata": {
    "collapsed": true
   },
   "outputs": [],
   "source": [
    "def simulate_tournament(trace):\n",
    "    results = {seed: team for seed, team in initial.items()}\n",
    "    games = []\n",
    "    \n",
    "    for match, (teamA, teamB) in tournament.items():\n",
    "        winner, loser, score = simulate_game(results[teamA], results[teamB], trace)\n",
    "        results[match] = winner\n",
    "        # round of game\n",
    "        r = match[1]\n",
    "        games.append((winner, loser, score, r))\n",
    "    \n",
    "    # clean initial seeds\n",
    "    clean_results = {r: tid_to_name(winner)\n",
    "            for r, winner in results.items() if r[0] == \"R\"}\n",
    "    \n",
    "    return clean_results, games"
   ]
  },
  {
   "cell_type": "markdown",
   "metadata": {},
   "source": [
    "## Simulate a single tournament"
   ]
  },
  {
   "cell_type": "code",
   "execution_count": 27,
   "metadata": {
    "scrolled": false
   },
   "outputs": [
    {
     "name": "stdout",
     "output_type": "stream",
     "text": [
      "Round 1: Villanova            def.    Mt St Mary's          63\n",
      "Round 1: Duke                 def.    Troy                  41\n",
      "Round 1: Baylor               def.    New Mexico St         18\n",
      "Round 1: Florida              def.    ETSU                  0\n",
      "Round 1: Virginia             def.    UNC Wilmington        1\n",
      "Round 1: USC                  def.    SMU                   0\n",
      "Round 1: South Carolina       def.    Marquette             25\n",
      "Round 1: Wisconsin            def.    Virginia Tech         0\n",
      "Round 1: Gonzaga              def.    S Dakota St           1\n",
      "Round 1: North Dakota         def.    Arizona               0\n",
      "Round 1: Florida St           def.    FL Gulf Coast         17\n",
      "Round 1: West Virginia        def.    Bucknell              27\n",
      "Round 1: Notre Dame           def.    Princeton             3\n",
      "Round 1: Maryland             def.    Xavier                0\n",
      "Round 1: VA Commonwealth      def.    St Mary's CA          5\n",
      "Round 1: Vanderbilt           def.    Northwestern          0\n",
      "Round 1: Kansas               def.    UC Davis              138\n",
      "Round 1: Louisville           def.    Jacksonville St       36\n",
      "Round 1: Oregon               def.    Iona                  52\n",
      "Round 1: Purdue               def.    Vermont               4\n",
      "Round 1: Nevada               def.    Iowa St               2\n",
      "Round 1: Creighton            def.    Rhode Island          0\n",
      "Round 1: Oklahoma St          def.    Michigan              4\n",
      "Round 1: Miami FL             def.    Michigan St           10\n",
      "Round 1: North Carolina       def.    TX Southern           27\n",
      "Round 1: Kentucky             def.    N Kentucky            21\n",
      "Round 1: UCLA                 def.    Kent                  13\n",
      "Round 1: Butler               def.    Winthrop              58\n",
      "Round 1: Minnesota            def.    MTSU                  13\n",
      "Round 1: Cincinnati           def.    Kansas St             2\n",
      "Round 1: Wichita St           def.    Dayton                3\n",
      "Round 1: Arkansas             def.    Seton Hall            18\n",
      "Round 2: Villanova            def.    Wisconsin             16\n",
      "Round 2: Duke                 def.    South Carolina        0\n",
      "Round 2: Baylor               def.    USC                   3\n",
      "Round 2: Virginia             def.    Florida               44\n",
      "Round 2: Gonzaga              def.    Vanderbilt            1\n",
      "Round 2: North Dakota         def.    VA Commonwealth       0\n",
      "Round 2: Florida St           def.    Maryland              10\n",
      "Round 2: West Virginia        def.    Notre Dame            25\n",
      "Round 2: Miami FL             def.    Kansas                7\n",
      "Round 2: Louisville           def.    Oklahoma St           38\n",
      "Round 2: Oregon               def.    Creighton             5\n",
      "Round 2: Purdue               def.    Nevada                9\n",
      "Round 2: North Carolina       def.    Arkansas              8\n",
      "Round 2: Kentucky             def.    Wichita St            8\n",
      "Round 2: Cincinnati           def.    UCLA                  26\n",
      "Round 2: Minnesota            def.    Butler                8\n",
      "Round 3: Villanova            def.    Virginia              7\n",
      "Round 3: Duke                 def.    Baylor                3\n",
      "Round 3: Gonzaga              def.    West Virginia         1\n",
      "Round 3: Florida St           def.    North Dakota          6\n",
      "Round 3: Miami FL             def.    Purdue                0\n",
      "Round 3: Oregon               def.    Louisville            2\n",
      "Round 3: North Carolina       def.    Minnesota             0\n",
      "Round 3: Cincinnati           def.    Kentucky              0\n",
      "Round 4: Duke                 def.    Villanova             6\n",
      "Round 4: Gonzaga              def.    Florida St            2\n",
      "Round 4: Miami FL             def.    Oregon                0\n",
      "Round 4: North Carolina       def.    Cincinnati            4\n",
      "Round 5: Gonzaga              def.    Duke                  2\n",
      "Round 5: North Carolina       def.    Miami FL              1\n",
      "Round 6: Gonzaga              def.    North Carolina        0\n"
     ]
    }
   ],
   "source": [
    "results, games = simulate_tournament(101)\n",
    "\n",
    "for tidA, tidB, score, rnd in games:\n",
    "    print(\"Round {3}: {0:<20} def.    {1:<20}  {2}\".format(tid_to_name(tidA), tid_to_name(tidB), int(score), rnd))"
   ]
  },
  {
   "cell_type": "markdown",
   "metadata": {},
   "source": [
    "# Simulate many tournaments"
   ]
  },
  {
   "cell_type": "code",
   "execution_count": 28,
   "metadata": {},
   "outputs": [],
   "source": [
    "round_counters = defaultdict(Counter)"
   ]
  },
  {
   "cell_type": "code",
   "execution_count": 29,
   "metadata": {},
   "outputs": [],
   "source": [
    "for _ in range(10000):\n",
    "    trace = random.randint(50, 499)\n",
    "    sim, _ = simulate_tournament(trace)\n",
    "    for rnd, team in sim.items():\n",
    "        round_counters[rnd].update([team]) "
   ]
  },
  {
   "cell_type": "code",
   "execution_count": 30,
   "metadata": {},
   "outputs": [],
   "source": [
    "def perc_counter(cntr):\n",
    "    total = sum(cntr.values())\n",
    "    return sorted([(team, cnt/total) for team, cnt in cntr.items()], key=lambda x: -x[1])"
   ]
  },
  {
   "cell_type": "code",
   "execution_count": 31,
   "metadata": {
    "scrolled": false
   },
   "outputs": [
    {
     "name": "stdout",
     "output_type": "stream",
     "text": [
      "Round: R1W1\n",
      "98.8% : Villanova\n",
      "1.2% : Mt St Mary's\n",
      "----------\n",
      "Round: R1W2\n",
      "95.0% : Duke\n",
      "5.0% : Troy\n",
      "----------\n",
      "Round: R1W3\n",
      "83.6% : Baylor\n",
      "16.4% : New Mexico St\n",
      "----------\n",
      "Round: R1W4\n",
      "83.0% : Florida\n",
      "17.0% : ETSU\n",
      "----------\n",
      "Round: R1W5\n",
      "74.5% : Virginia\n",
      "25.6% : UNC Wilmington\n",
      "----------\n",
      "Round: R1W6\n",
      "69.0% : SMU\n",
      "31.0% : USC\n",
      "----------\n",
      "Round: R1W7\n",
      "53.9% : South Carolina\n",
      "46.1% : Marquette\n",
      "----------\n",
      "Round: R1W8\n",
      "65.1% : Wisconsin\n",
      "34.9% : Virginia Tech\n",
      "----------\n",
      "Round: R1X1\n",
      "95.8% : Gonzaga\n",
      "4.2% : S Dakota St\n",
      "----------\n",
      "Round: R1X2\n",
      "94.7% : Arizona\n",
      "5.3% : North Dakota\n",
      "----------\n",
      "Round: R1X3\n",
      "85.8% : Florida St\n",
      "14.2% : FL Gulf Coast\n",
      "----------\n",
      "Round: R1X4\n",
      "86.9% : West Virginia\n",
      "13.1% : Bucknell\n",
      "----------\n",
      "Round: R1X5\n",
      "71.7% : Notre Dame\n",
      "28.3% : Princeton\n",
      "----------\n",
      "Round: R1X6\n",
      "50.8% : Xavier\n",
      "49.2% : Maryland\n",
      "----------\n",
      "Round: R1X7\n",
      "60.6% : St Mary's CA\n",
      "39.4% : VA Commonwealth\n",
      "----------\n",
      "Round: R1X8\n",
      "52.5% : Vanderbilt\n",
      "47.5% : Northwestern\n",
      "----------\n",
      "Round: R1Y1\n",
      "97.5% : Kansas\n",
      "2.5% : UC Davis\n",
      "----------\n",
      "Round: R1Y2\n",
      "96.9% : Louisville\n",
      "3.1% : Jacksonville St\n",
      "----------\n",
      "Round: R1Y3\n",
      "89.8% : Oregon\n",
      "10.2% : Iona\n",
      "----------\n",
      "Round: R1Y4\n",
      "78.5% : Purdue\n",
      "21.5% : Vermont\n",
      "----------\n",
      "Round: R1Y5\n",
      "70.4% : Iowa St\n",
      "29.6% : Nevada\n",
      "----------\n",
      "Round: R1Y6\n",
      "60.9% : Creighton\n",
      "39.1% : Rhode Island\n",
      "----------\n",
      "Round: R1Y7\n",
      "50.1% : Michigan\n",
      "49.9% : Oklahoma St\n",
      "----------\n",
      "Round: R1Y8\n",
      "56.3% : Miami FL\n",
      "43.7% : Michigan St\n",
      "----------\n",
      "Round: R1Z1\n",
      "97.0% : North Carolina\n",
      "3.0% : TX Southern\n",
      "----------\n",
      "Round: R1Z2\n",
      "95.8% : Kentucky\n",
      "4.2% : N Kentucky\n",
      "----------\n",
      "Round: R1Z3\n",
      "89.9% : UCLA\n",
      "10.1% : Kent\n",
      "----------\n",
      "Round: R1Z4\n",
      "83.6% : Butler\n",
      "16.4% : Winthrop\n",
      "----------\n",
      "Round: R1Z5\n",
      "52.4% : Minnesota\n",
      "47.6% : MTSU\n",
      "----------\n",
      "Round: R1Z6\n",
      "62.2% : Cincinnati\n",
      "37.9% : Kansas St\n",
      "----------\n",
      "Round: R1Z7\n",
      "68.1% : Wichita St\n",
      "31.9% : Dayton\n",
      "----------\n",
      "Round: R1Z8\n",
      "54.7% : Arkansas\n",
      "45.3% : Seton Hall\n",
      "----------\n",
      "Round: R2W1\n",
      "75.6% : Villanova\n",
      "18.2% : Wisconsin\n",
      "6.1% : Virginia Tech\n",
      "0.1% : Mt St Mary's\n",
      "----------\n",
      "Round: R2W2\n",
      "68.4% : Duke\n",
      "17.5% : South Carolina\n",
      "13.3% : Marquette\n",
      "0.8% : Troy\n",
      "----------\n",
      "Round: R2W3\n",
      "49.5% : Baylor\n",
      "36.1% : SMU\n",
      "10.8% : USC\n",
      "3.5% : New Mexico St\n",
      "----------\n",
      "Round: R2W4\n",
      "47.3% : Florida\n",
      "41.0% : Virginia\n",
      "7.6% : UNC Wilmington\n",
      "4.0% : ETSU\n",
      "----------\n",
      "Round: R2X1\n",
      "75.6% : Gonzaga\n",
      "12.4% : Vanderbilt\n",
      "11.1% : Northwestern\n",
      "0.8% : S Dakota St\n",
      "----------\n",
      "Round: R2X2\n",
      "60.4% : Arizona\n",
      "26.4% : St Mary's CA\n",
      "12.6% : VA Commonwealth\n",
      "0.6% : North Dakota\n",
      "----------\n",
      "Round: R2X3\n",
      "52.9% : Florida St\n",
      "22.4% : Xavier\n",
      "21.4% : Maryland\n",
      "3.2% : FL Gulf Coast\n",
      "----------\n",
      "Round: R2X4\n",
      "58.3% : West Virginia\n",
      "31.2% : Notre Dame\n",
      "6.8% : Princeton\n",
      "3.7% : Bucknell\n",
      "----------\n",
      "Round: R2Y1\n",
      "73.2% : Kansas\n",
      "16.1% : Miami FL\n",
      "10.4% : Michigan St\n",
      "0.2% : UC Davis\n",
      "----------\n",
      "Round: R2Y2\n",
      "65.2% : Louisville\n",
      "17.8% : Michigan\n",
      "16.8% : Oklahoma St\n",
      "0.3% : Jacksonville St\n",
      "----------\n",
      "Round: R2Y3\n",
      "59.9% : Oregon\n",
      "25.4% : Creighton\n",
      "12.6% : Rhode Island\n",
      "2.1% : Iona\n",
      "----------\n",
      "Round: R2Y4\n",
      "45.7% : Purdue\n",
      "38.0% : Iowa St\n",
      "10.2% : Nevada\n",
      "6.0% : Vermont\n",
      "----------\n",
      "Round: R2Z1\n",
      "75.7% : North Carolina\n",
      "13.8% : Arkansas\n",
      "10.0% : Seton Hall\n",
      "0.5% : TX Southern\n",
      "----------\n",
      "Round: R2Z2\n",
      "64.1% : Kentucky\n",
      "27.3% : Wichita St\n",
      "8.1% : Dayton\n",
      "0.5% : N Kentucky\n",
      "----------\n",
      "Round: R2Z3\n",
      "53.7% : UCLA\n",
      "30.1% : Cincinnati\n",
      "14.5% : Kansas St\n",
      "1.6% : Kent\n",
      "----------\n",
      "Round: R2Z4\n",
      "53.9% : Butler\n",
      "21.9% : Minnesota\n",
      "19.2% : MTSU\n",
      "5.0% : Winthrop\n",
      "----------\n",
      "Round: R3W1\n",
      "48.1% : Villanova\n",
      "21.7% : Florida\n",
      "18.3% : Virginia\n",
      "7.8% : Wisconsin\n",
      "1.8% : UNC Wilmington\n",
      "1.7% : Virginia Tech\n",
      "0.6% : ETSU\n",
      "----------\n",
      "Round: R3W2\n",
      "39.2% : Duke\n",
      "27.1% : Baylor\n",
      "18.5% : SMU\n",
      "6.6% : South Carolina\n",
      "4.4% : Marquette\n",
      "3.4% : USC\n",
      "0.8% : New Mexico St\n",
      "0.1% : Troy\n",
      "----------\n",
      "Round: R3X1\n",
      "48.6% : Gonzaga\n",
      "29.0% : West Virginia\n",
      "11.9% : Notre Dame\n",
      "4.7% : Vanderbilt\n",
      "3.7% : Northwestern\n",
      "1.5% : Princeton\n",
      "0.5% : Bucknell\n",
      "0.1% : S Dakota St\n",
      "----------\n",
      "Round: R3X2\n",
      "38.3% : Arizona\n",
      "24.9% : Florida St\n",
      "14.6% : St Mary's CA\n",
      "8.4% : Xavier\n",
      "7.5% : Maryland\n",
      "5.7% : VA Commonwealth\n",
      "0.5% : FL Gulf Coast\n",
      "0.1% : North Dakota\n",
      "----------\n",
      "Round: R3Y1\n",
      "48.6% : Kansas\n",
      "20.2% : Purdue\n",
      "16.1% : Iowa St\n",
      "7.3% : Miami FL\n",
      "4.0% : Michigan St\n",
      "2.7% : Nevada\n",
      "1.1% : Vermont\n",
      "----------\n",
      "Round: R3Y2\n",
      "39.2% : Louisville\n",
      "31.6% : Oregon\n",
      "10.3% : Creighton\n",
      "7.6% : Michigan\n",
      "7.1% : Oklahoma St\n",
      "4.0% : Rhode Island\n",
      "0.3% : Iona\n",
      "0.0% : Jacksonville St\n",
      "----------\n",
      "Round: R3Z1\n",
      "55.9% : North Carolina\n",
      "21.8% : Butler\n",
      "6.7% : Arkansas\n",
      "5.8% : Minnesota\n",
      "4.8% : MTSU\n",
      "4.4% : Seton Hall\n",
      "0.7% : Winthrop\n",
      "0.1% : TX Southern\n",
      "----------\n",
      "Round: R3Z2\n",
      "42.6% : Kentucky\n",
      "23.2% : UCLA\n",
      "15.4% : Wichita St\n",
      "11.2% : Cincinnati\n",
      "4.4% : Kansas St\n",
      "3.1% : Dayton\n",
      "0.2% : Kent\n",
      "0.0% : N Kentucky\n",
      "----------\n",
      "Round: R4W1\n",
      "32.1% : Villanova\n",
      "17.6% : Duke\n",
      "12.0% : Florida\n",
      "11.9% : Baylor\n",
      "10.6% : Virginia\n",
      "7.4% : SMU\n",
      "3.4% : Wisconsin\n",
      "1.7% : South Carolina\n",
      "1.1% : Marquette\n",
      "0.8% : USC\n",
      "0.7% : UNC Wilmington\n",
      "0.4% : Virginia Tech\n",
      "0.1% : New Mexico St\n",
      "0.1% : ETSU\n",
      "----------\n",
      "Round: R4X1\n",
      "31.9% : Gonzaga\n",
      "18.4% : Arizona\n",
      "17.5% : West Virginia\n",
      "10.4% : Florida St\n",
      "5.7% : Notre Dame\n",
      "5.6% : St Mary's CA\n",
      "2.7% : Xavier\n",
      "2.2% : Maryland\n",
      "1.8% : Vanderbilt\n",
      "1.6% : VA Commonwealth\n",
      "1.4% : Northwestern\n",
      "0.5% : Princeton\n",
      "0.1% : Bucknell\n",
      "0.1% : FL Gulf Coast\n",
      "----------\n",
      "Round: R4Y1\n",
      "29.8% : Kansas\n",
      "21.1% : Louisville\n",
      "16.4% : Oregon\n",
      "9.6% : Purdue\n",
      "7.3% : Iowa St\n",
      "4.0% : Creighton\n",
      "3.0% : Michigan\n",
      "2.6% : Miami FL\n",
      "2.5% : Oklahoma St\n",
      "1.4% : Michigan St\n",
      "1.1% : Rhode Island\n",
      "0.8% : Nevada\n",
      "0.2% : Vermont\n",
      "0.1% : Iona\n",
      "----------\n",
      "Round: R4Z1\n",
      "32.9% : North Carolina\n",
      "25.3% : Kentucky\n",
      "11.2% : UCLA\n",
      "9.0% : Butler\n",
      "7.7% : Wichita St\n",
      "4.7% : Cincinnati\n",
      "2.1% : Arkansas\n",
      "1.7% : Minnesota\n",
      "1.5% : Kansas St\n",
      "1.5% : MTSU\n",
      "1.3% : Seton Hall\n",
      "1.1% : Dayton\n",
      "0.1% : Winthrop\n",
      "0.0% : Kent\n",
      "0.0% : TX Southern\n",
      "----------\n",
      "Round: R5WX\n",
      "20.5% : Villanova\n",
      "17.0% : Gonzaga\n",
      "9.3% : Duke\n",
      "8.6% : Arizona\n",
      "8.6% : West Virginia\n",
      "6.6% : Florida\n",
      "6.0% : Baylor\n",
      "5.7% : Virginia\n",
      "4.0% : Florida St\n",
      "3.6% : SMU\n",
      "2.0% : St Mary's CA\n",
      "2.0% : Notre Dame\n",
      "1.5% : Wisconsin\n",
      "0.8% : Xavier\n",
      "0.6% : Maryland\n",
      "0.6% : Vanderbilt\n",
      "0.6% : South Carolina\n",
      "0.4% : Northwestern\n",
      "0.4% : VA Commonwealth\n",
      "0.4% : Marquette\n",
      "0.3% : USC\n",
      "0.1% : UNC Wilmington\n",
      "0.1% : Virginia Tech\n",
      "0.1% : Princeton\n",
      "0.0% : New Mexico St\n",
      "0.0% : Bucknell\n",
      "0.0% : ETSU\n",
      "----------\n",
      "Round: R5YZ\n",
      "18.9% : North Carolina\n",
      "16.6% : Kansas\n",
      "14.6% : Kentucky\n",
      "10.9% : Louisville\n",
      "8.1% : Oregon\n",
      "5.2% : UCLA\n",
      "4.3% : Purdue\n",
      "3.9% : Butler\n",
      "3.9% : Wichita St\n",
      "3.4% : Iowa St\n",
      "1.9% : Cincinnati\n",
      "1.5% : Creighton\n",
      "1.1% : Michigan\n",
      "0.9% : Miami FL\n",
      "0.8% : Oklahoma St\n",
      "0.7% : Arkansas\n",
      "0.5% : Michigan St\n",
      "0.5% : Kansas St\n",
      "0.5% : Minnesota\n",
      "0.5% : Dayton\n",
      "0.4% : Seton Hall\n",
      "0.4% : MTSU\n",
      "0.3% : Rhode Island\n",
      "0.2% : Nevada\n",
      "0.0% : Vermont\n",
      "0.0% : Winthrop\n",
      "0.0% : TX Southern\n",
      "0.0% : Iona\n",
      "----------\n",
      "Round: R6CH\n",
      "12.8% : Villanova\n",
      "10.5% : North Carolina\n",
      "9.7% : Gonzaga\n",
      "9.3% : Kansas\n",
      "8.2% : Kentucky\n",
      "5.5% : Louisville\n",
      "4.6% : Duke\n",
      "4.3% : West Virginia\n",
      "4.2% : Arizona\n",
      "3.8% : Oregon\n",
      "3.4% : Florida\n",
      "2.8% : Baylor\n",
      "2.8% : Virginia\n",
      "2.1% : UCLA\n",
      "1.8% : Wichita St\n",
      "1.7% : Florida St\n",
      "1.7% : Purdue\n",
      "1.5% : SMU\n",
      "1.5% : Iowa St\n",
      "1.4% : Butler\n",
      "0.8% : St Mary's CA\n",
      "0.7% : Cincinnati\n",
      "0.7% : Wisconsin\n",
      "0.7% : Notre Dame\n",
      "0.5% : Creighton\n",
      "0.4% : Michigan\n",
      "0.3% : Miami FL\n",
      "0.2% : Xavier\n",
      "0.2% : Arkansas\n",
      "0.2% : Oklahoma St\n",
      "0.2% : Vanderbilt\n",
      "0.1% : South Carolina\n",
      "0.1% : Michigan St\n",
      "0.1% : Seton Hall\n",
      "0.1% : Maryland\n",
      "0.1% : VA Commonwealth\n",
      "0.1% : Marquette\n",
      "0.1% : Minnesota\n",
      "0.1% : MTSU\n",
      "0.1% : Kansas St\n",
      "0.1% : Dayton\n",
      "0.1% : Rhode Island\n",
      "0.1% : Northwestern\n",
      "0.1% : Nevada\n",
      "0.1% : UNC Wilmington\n",
      "0.0% : USC\n",
      "0.0% : Virginia Tech\n",
      "0.0% : Bucknell\n",
      "0.0% : Princeton\n",
      "0.0% : Vermont\n",
      "----------\n"
     ]
    }
   ],
   "source": [
    "percentages = {rnd: perc_counter(c) for rnd, c in round_counters.items()}\n",
    "\n",
    "for rnd, teams in percentages.items():\n",
    "    print(\"Round: {}\".format(rnd))\n",
    "    for team, perc in teams:\n",
    "        print(\"{:>3.1f}% : {}\".format(100*perc, team))\n",
    "    print(\"-\"*10)"
   ]
  },
  {
   "cell_type": "markdown",
   "metadata": {
    "collapsed": true
   },
   "source": [
    "That is, the model believes Villanova has a 12.8% probability of winning the tournament!"
   ]
  }
 ],
 "metadata": {
  "kernelspec": {
   "display_name": "Python 3",
   "language": "python",
   "name": "python3"
  },
  "language_info": {
   "codemirror_mode": {
    "name": "ipython",
    "version": 3
   },
   "file_extension": ".py",
   "mimetype": "text/x-python",
   "name": "python",
   "nbconvert_exporter": "python",
   "pygments_lexer": "ipython3",
   "version": "3.6.2"
  }
 },
 "nbformat": 4,
 "nbformat_minor": 2
}
